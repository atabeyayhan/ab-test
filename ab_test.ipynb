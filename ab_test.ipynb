{
  "nbformat": 4,
  "nbformat_minor": 0,
  "metadata": {
    "colab": {
      "provenance": []
    },
    "kernelspec": {
      "name": "python3",
      "display_name": "Python 3"
    },
    "language_info": {
      "name": "python"
    }
  },
  "cells": [
    {
      "cell_type": "markdown",
      "source": [
        "# Comparison of Bidding Methods with AB Testing\n",
        "\n",
        "######################################################\n",
        "## What is AB Testing ?\n",
        "######################################################\n",
        "\n",
        "> A/B testing, also known as split testing, is a marketing experiment wherein you give two different versions of a product or a piece of marketing content to your audience and test the better version.\n",
        "######################################################\n",
        "## AB Testing Steps\n",
        "######################################################\n",
        "1. Hypothesize\n",
        "2. Control of Assumptions\n",
        "   - 1. Normal Distribution (shapiro)\n",
        "   - 2. Homogeneity of Variance (levene)\n",
        "3. Application of Hypothesis\n",
        "   - 1. Independent two-sample t-test if assumptions are met (parametric test)\n",
        "   - 2. If assumptions are not met mannwhitneyu test (non-parametric test)\n",
        "4. Interpret results based on p-value\n",
        " Note:\n",
        " - If normality is not ensured, number 2. If  Homogeneity of Variance is not provided, an argument is entered for number 1.\n",
        " - It may be helpful to perform outlier analysis and correction prior to normality analysis.\n",
        "\n",
        "\n",
        "\n",
        "\n",
        "\n",
        "\n",
        "\n",
        "\n",
        "\n",
        "\n",
        "\n",
        "\n"
      ],
      "metadata": {
        "id": "_0yaWfUZ4OIH"
      }
    },
    {
      "cell_type": "markdown",
      "source": [
        "## Imports and Dataframe Analysis"
      ],
      "metadata": {
        "id": "SfqSvh-pm7Zd"
      }
    },
    {
      "cell_type": "code",
      "source": [
        "import numpy as np\n",
        "import pandas as pd\n",
        "import matplotlib.pyplot as plt\n",
        "import seaborn as sns\n",
        "import os\n",
        "from scipy.stats import shapiro, levene, ttest_ind"
      ],
      "metadata": {
        "id": "HCjCWDz4QMlx"
      },
      "execution_count": 75,
      "outputs": []
    },
    {
      "cell_type": "code",
      "source": [
        "pd.set_option('display.max_columns', None)\n",
        "pd.set_option('display.max_rows', 10)\n",
        "pd.set_option('display.float_format', lambda x: '%.5f' % x)"
      ],
      "metadata": {
        "id": "CO8_4qfEQMoW"
      },
      "execution_count": 2,
      "outputs": []
    },
    {
      "cell_type": "code",
      "source": [
        "xls = pd.ExcelFile('ab_testing.xlsx')\n",
        "control = pd.read_excel(xls, 'Control Group')\n",
        "test = pd.read_excel(xls, 'Test Group')"
      ],
      "metadata": {
        "id": "vqQ38bPl47fm"
      },
      "execution_count": 77,
      "outputs": []
    },
    {
      "cell_type": "markdown",
      "source": [
        "###Control Group Analysis:"
      ],
      "metadata": {
        "id": "jqDDi-q3nGSg"
      }
    },
    {
      "cell_type": "code",
      "source": [
        "control.describe().T"
      ],
      "metadata": {
        "id": "Vv8Q3cjg47ns",
        "colab": {
          "base_uri": "https://localhost:8080/",
          "height": 175
        },
        "outputId": "22d38480-83d9-4d80-c22b-268762e03439"
      },
      "execution_count": 26,
      "outputs": [
        {
          "output_type": "execute_result",
          "data": {
            "text/plain": [
              "              count         mean         std         min         25%  \\\n",
              "Impression 40.00000 101711.44907 20302.15786 45475.94296 85726.69035   \n",
              "Click      40.00000   5100.65737  1329.98550  2189.75316  4124.30413   \n",
              "Purchase   40.00000    550.89406   134.10820   267.02894   470.09553   \n",
              "Earning    40.00000   1908.56830   302.91778  1253.98952  1685.84720   \n",
              "\n",
              "                   50%          75%          max  \n",
              "Impression 99790.70108 115212.81654 147539.33633  \n",
              "Click       5001.22060   5923.80360   7959.12507  \n",
              "Purchase     531.20631    637.95709    801.79502  \n",
              "Earning     1975.16052   2119.80278   2497.29522  "
            ],
            "text/html": [
              "\n",
              "  <div id=\"df-c2a34054-070a-4c67-9192-405b4a9a85ea\">\n",
              "    <div class=\"colab-df-container\">\n",
              "      <div>\n",
              "<style scoped>\n",
              "    .dataframe tbody tr th:only-of-type {\n",
              "        vertical-align: middle;\n",
              "    }\n",
              "\n",
              "    .dataframe tbody tr th {\n",
              "        vertical-align: top;\n",
              "    }\n",
              "\n",
              "    .dataframe thead th {\n",
              "        text-align: right;\n",
              "    }\n",
              "</style>\n",
              "<table border=\"1\" class=\"dataframe\">\n",
              "  <thead>\n",
              "    <tr style=\"text-align: right;\">\n",
              "      <th></th>\n",
              "      <th>count</th>\n",
              "      <th>mean</th>\n",
              "      <th>std</th>\n",
              "      <th>min</th>\n",
              "      <th>25%</th>\n",
              "      <th>50%</th>\n",
              "      <th>75%</th>\n",
              "      <th>max</th>\n",
              "    </tr>\n",
              "  </thead>\n",
              "  <tbody>\n",
              "    <tr>\n",
              "      <th>Impression</th>\n",
              "      <td>40.00000</td>\n",
              "      <td>101711.44907</td>\n",
              "      <td>20302.15786</td>\n",
              "      <td>45475.94296</td>\n",
              "      <td>85726.69035</td>\n",
              "      <td>99790.70108</td>\n",
              "      <td>115212.81654</td>\n",
              "      <td>147539.33633</td>\n",
              "    </tr>\n",
              "    <tr>\n",
              "      <th>Click</th>\n",
              "      <td>40.00000</td>\n",
              "      <td>5100.65737</td>\n",
              "      <td>1329.98550</td>\n",
              "      <td>2189.75316</td>\n",
              "      <td>4124.30413</td>\n",
              "      <td>5001.22060</td>\n",
              "      <td>5923.80360</td>\n",
              "      <td>7959.12507</td>\n",
              "    </tr>\n",
              "    <tr>\n",
              "      <th>Purchase</th>\n",
              "      <td>40.00000</td>\n",
              "      <td>550.89406</td>\n",
              "      <td>134.10820</td>\n",
              "      <td>267.02894</td>\n",
              "      <td>470.09553</td>\n",
              "      <td>531.20631</td>\n",
              "      <td>637.95709</td>\n",
              "      <td>801.79502</td>\n",
              "    </tr>\n",
              "    <tr>\n",
              "      <th>Earning</th>\n",
              "      <td>40.00000</td>\n",
              "      <td>1908.56830</td>\n",
              "      <td>302.91778</td>\n",
              "      <td>1253.98952</td>\n",
              "      <td>1685.84720</td>\n",
              "      <td>1975.16052</td>\n",
              "      <td>2119.80278</td>\n",
              "      <td>2497.29522</td>\n",
              "    </tr>\n",
              "  </tbody>\n",
              "</table>\n",
              "</div>\n",
              "      <button class=\"colab-df-convert\" onclick=\"convertToInteractive('df-c2a34054-070a-4c67-9192-405b4a9a85ea')\"\n",
              "              title=\"Convert this dataframe to an interactive table.\"\n",
              "              style=\"display:none;\">\n",
              "        \n",
              "  <svg xmlns=\"http://www.w3.org/2000/svg\" height=\"24px\"viewBox=\"0 0 24 24\"\n",
              "       width=\"24px\">\n",
              "    <path d=\"M0 0h24v24H0V0z\" fill=\"none\"/>\n",
              "    <path d=\"M18.56 5.44l.94 2.06.94-2.06 2.06-.94-2.06-.94-.94-2.06-.94 2.06-2.06.94zm-11 1L8.5 8.5l.94-2.06 2.06-.94-2.06-.94L8.5 2.5l-.94 2.06-2.06.94zm10 10l.94 2.06.94-2.06 2.06-.94-2.06-.94-.94-2.06-.94 2.06-2.06.94z\"/><path d=\"M17.41 7.96l-1.37-1.37c-.4-.4-.92-.59-1.43-.59-.52 0-1.04.2-1.43.59L10.3 9.45l-7.72 7.72c-.78.78-.78 2.05 0 2.83L4 21.41c.39.39.9.59 1.41.59.51 0 1.02-.2 1.41-.59l7.78-7.78 2.81-2.81c.8-.78.8-2.07 0-2.86zM5.41 20L4 18.59l7.72-7.72 1.47 1.35L5.41 20z\"/>\n",
              "  </svg>\n",
              "      </button>\n",
              "      \n",
              "  <style>\n",
              "    .colab-df-container {\n",
              "      display:flex;\n",
              "      flex-wrap:wrap;\n",
              "      gap: 12px;\n",
              "    }\n",
              "\n",
              "    .colab-df-convert {\n",
              "      background-color: #E8F0FE;\n",
              "      border: none;\n",
              "      border-radius: 50%;\n",
              "      cursor: pointer;\n",
              "      display: none;\n",
              "      fill: #1967D2;\n",
              "      height: 32px;\n",
              "      padding: 0 0 0 0;\n",
              "      width: 32px;\n",
              "    }\n",
              "\n",
              "    .colab-df-convert:hover {\n",
              "      background-color: #E2EBFA;\n",
              "      box-shadow: 0px 1px 2px rgba(60, 64, 67, 0.3), 0px 1px 3px 1px rgba(60, 64, 67, 0.15);\n",
              "      fill: #174EA6;\n",
              "    }\n",
              "\n",
              "    [theme=dark] .colab-df-convert {\n",
              "      background-color: #3B4455;\n",
              "      fill: #D2E3FC;\n",
              "    }\n",
              "\n",
              "    [theme=dark] .colab-df-convert:hover {\n",
              "      background-color: #434B5C;\n",
              "      box-shadow: 0px 1px 3px 1px rgba(0, 0, 0, 0.15);\n",
              "      filter: drop-shadow(0px 1px 2px rgba(0, 0, 0, 0.3));\n",
              "      fill: #FFFFFF;\n",
              "    }\n",
              "  </style>\n",
              "\n",
              "      <script>\n",
              "        const buttonEl =\n",
              "          document.querySelector('#df-c2a34054-070a-4c67-9192-405b4a9a85ea button.colab-df-convert');\n",
              "        buttonEl.style.display =\n",
              "          google.colab.kernel.accessAllowed ? 'block' : 'none';\n",
              "\n",
              "        async function convertToInteractive(key) {\n",
              "          const element = document.querySelector('#df-c2a34054-070a-4c67-9192-405b4a9a85ea');\n",
              "          const dataTable =\n",
              "            await google.colab.kernel.invokeFunction('convertToInteractive',\n",
              "                                                     [key], {});\n",
              "          if (!dataTable) return;\n",
              "\n",
              "          const docLinkHtml = 'Like what you see? Visit the ' +\n",
              "            '<a target=\"_blank\" href=https://colab.research.google.com/notebooks/data_table.ipynb>data table notebook</a>'\n",
              "            + ' to learn more about interactive tables.';\n",
              "          element.innerHTML = '';\n",
              "          dataTable['output_type'] = 'display_data';\n",
              "          await google.colab.output.renderOutput(dataTable, element);\n",
              "          const docLink = document.createElement('div');\n",
              "          docLink.innerHTML = docLinkHtml;\n",
              "          element.appendChild(docLink);\n",
              "        }\n",
              "      </script>\n",
              "    </div>\n",
              "  </div>\n",
              "  "
            ]
          },
          "metadata": {},
          "execution_count": 26
        }
      ]
    },
    {
      "cell_type": "code",
      "source": [
        "control.dtypes"
      ],
      "metadata": {
        "id": "9UxHEvhviPDm",
        "outputId": "6c017dc5-f171-4a64-f442-b8aeaeae32f4",
        "colab": {
          "base_uri": "https://localhost:8080/"
        }
      },
      "execution_count": 84,
      "outputs": [
        {
          "output_type": "execute_result",
          "data": {
            "text/plain": [
              "Impression    float64\n",
              "Click         float64\n",
              "Purchase      float64\n",
              "Earning       float64\n",
              "dtype: object"
            ]
          },
          "metadata": {},
          "execution_count": 84
        }
      ]
    },
    {
      "cell_type": "markdown",
      "source": [
        "###Test Group Analysis:"
      ],
      "metadata": {
        "id": "iHCoQsDlnLO_"
      }
    },
    {
      "cell_type": "code",
      "source": [
        "test.describe().T"
      ],
      "metadata": {
        "colab": {
          "base_uri": "https://localhost:8080/",
          "height": 175
        },
        "id": "zLEEyxIZTogs",
        "outputId": "7e4f5c69-0d20-48d0-db51-c02fc201723f"
      },
      "execution_count": 27,
      "outputs": [
        {
          "output_type": "execute_result",
          "data": {
            "text/plain": [
              "              count         mean         std         min          25%  \\\n",
              "Impression 40.00000 120512.41176 18807.44871 79033.83492 112691.97077   \n",
              "Click      40.00000   3967.54976   923.09507  1836.62986   3376.81902   \n",
              "Purchase   40.00000    582.10610   161.15251   311.62952    444.62683   \n",
              "Earning    40.00000   2514.89073   282.73085  1939.61124   2280.53743   \n",
              "\n",
              "                    50%          75%          max  \n",
              "Impression 119291.30077 132050.57893 158605.92048  \n",
              "Click        3931.35980   4660.49791   6019.69508  \n",
              "Purchase      551.35573    699.86236    889.91046  \n",
              "Earning      2544.66611   2761.54540   3171.48971  "
            ],
            "text/html": [
              "\n",
              "  <div id=\"df-017af756-bca0-40ba-8479-299e0a2f4a71\">\n",
              "    <div class=\"colab-df-container\">\n",
              "      <div>\n",
              "<style scoped>\n",
              "    .dataframe tbody tr th:only-of-type {\n",
              "        vertical-align: middle;\n",
              "    }\n",
              "\n",
              "    .dataframe tbody tr th {\n",
              "        vertical-align: top;\n",
              "    }\n",
              "\n",
              "    .dataframe thead th {\n",
              "        text-align: right;\n",
              "    }\n",
              "</style>\n",
              "<table border=\"1\" class=\"dataframe\">\n",
              "  <thead>\n",
              "    <tr style=\"text-align: right;\">\n",
              "      <th></th>\n",
              "      <th>count</th>\n",
              "      <th>mean</th>\n",
              "      <th>std</th>\n",
              "      <th>min</th>\n",
              "      <th>25%</th>\n",
              "      <th>50%</th>\n",
              "      <th>75%</th>\n",
              "      <th>max</th>\n",
              "    </tr>\n",
              "  </thead>\n",
              "  <tbody>\n",
              "    <tr>\n",
              "      <th>Impression</th>\n",
              "      <td>40.00000</td>\n",
              "      <td>120512.41176</td>\n",
              "      <td>18807.44871</td>\n",
              "      <td>79033.83492</td>\n",
              "      <td>112691.97077</td>\n",
              "      <td>119291.30077</td>\n",
              "      <td>132050.57893</td>\n",
              "      <td>158605.92048</td>\n",
              "    </tr>\n",
              "    <tr>\n",
              "      <th>Click</th>\n",
              "      <td>40.00000</td>\n",
              "      <td>3967.54976</td>\n",
              "      <td>923.09507</td>\n",
              "      <td>1836.62986</td>\n",
              "      <td>3376.81902</td>\n",
              "      <td>3931.35980</td>\n",
              "      <td>4660.49791</td>\n",
              "      <td>6019.69508</td>\n",
              "    </tr>\n",
              "    <tr>\n",
              "      <th>Purchase</th>\n",
              "      <td>40.00000</td>\n",
              "      <td>582.10610</td>\n",
              "      <td>161.15251</td>\n",
              "      <td>311.62952</td>\n",
              "      <td>444.62683</td>\n",
              "      <td>551.35573</td>\n",
              "      <td>699.86236</td>\n",
              "      <td>889.91046</td>\n",
              "    </tr>\n",
              "    <tr>\n",
              "      <th>Earning</th>\n",
              "      <td>40.00000</td>\n",
              "      <td>2514.89073</td>\n",
              "      <td>282.73085</td>\n",
              "      <td>1939.61124</td>\n",
              "      <td>2280.53743</td>\n",
              "      <td>2544.66611</td>\n",
              "      <td>2761.54540</td>\n",
              "      <td>3171.48971</td>\n",
              "    </tr>\n",
              "  </tbody>\n",
              "</table>\n",
              "</div>\n",
              "      <button class=\"colab-df-convert\" onclick=\"convertToInteractive('df-017af756-bca0-40ba-8479-299e0a2f4a71')\"\n",
              "              title=\"Convert this dataframe to an interactive table.\"\n",
              "              style=\"display:none;\">\n",
              "        \n",
              "  <svg xmlns=\"http://www.w3.org/2000/svg\" height=\"24px\"viewBox=\"0 0 24 24\"\n",
              "       width=\"24px\">\n",
              "    <path d=\"M0 0h24v24H0V0z\" fill=\"none\"/>\n",
              "    <path d=\"M18.56 5.44l.94 2.06.94-2.06 2.06-.94-2.06-.94-.94-2.06-.94 2.06-2.06.94zm-11 1L8.5 8.5l.94-2.06 2.06-.94-2.06-.94L8.5 2.5l-.94 2.06-2.06.94zm10 10l.94 2.06.94-2.06 2.06-.94-2.06-.94-.94-2.06-.94 2.06-2.06.94z\"/><path d=\"M17.41 7.96l-1.37-1.37c-.4-.4-.92-.59-1.43-.59-.52 0-1.04.2-1.43.59L10.3 9.45l-7.72 7.72c-.78.78-.78 2.05 0 2.83L4 21.41c.39.39.9.59 1.41.59.51 0 1.02-.2 1.41-.59l7.78-7.78 2.81-2.81c.8-.78.8-2.07 0-2.86zM5.41 20L4 18.59l7.72-7.72 1.47 1.35L5.41 20z\"/>\n",
              "  </svg>\n",
              "      </button>\n",
              "      \n",
              "  <style>\n",
              "    .colab-df-container {\n",
              "      display:flex;\n",
              "      flex-wrap:wrap;\n",
              "      gap: 12px;\n",
              "    }\n",
              "\n",
              "    .colab-df-convert {\n",
              "      background-color: #E8F0FE;\n",
              "      border: none;\n",
              "      border-radius: 50%;\n",
              "      cursor: pointer;\n",
              "      display: none;\n",
              "      fill: #1967D2;\n",
              "      height: 32px;\n",
              "      padding: 0 0 0 0;\n",
              "      width: 32px;\n",
              "    }\n",
              "\n",
              "    .colab-df-convert:hover {\n",
              "      background-color: #E2EBFA;\n",
              "      box-shadow: 0px 1px 2px rgba(60, 64, 67, 0.3), 0px 1px 3px 1px rgba(60, 64, 67, 0.15);\n",
              "      fill: #174EA6;\n",
              "    }\n",
              "\n",
              "    [theme=dark] .colab-df-convert {\n",
              "      background-color: #3B4455;\n",
              "      fill: #D2E3FC;\n",
              "    }\n",
              "\n",
              "    [theme=dark] .colab-df-convert:hover {\n",
              "      background-color: #434B5C;\n",
              "      box-shadow: 0px 1px 3px 1px rgba(0, 0, 0, 0.15);\n",
              "      filter: drop-shadow(0px 1px 2px rgba(0, 0, 0, 0.3));\n",
              "      fill: #FFFFFF;\n",
              "    }\n",
              "  </style>\n",
              "\n",
              "      <script>\n",
              "        const buttonEl =\n",
              "          document.querySelector('#df-017af756-bca0-40ba-8479-299e0a2f4a71 button.colab-df-convert');\n",
              "        buttonEl.style.display =\n",
              "          google.colab.kernel.accessAllowed ? 'block' : 'none';\n",
              "\n",
              "        async function convertToInteractive(key) {\n",
              "          const element = document.querySelector('#df-017af756-bca0-40ba-8479-299e0a2f4a71');\n",
              "          const dataTable =\n",
              "            await google.colab.kernel.invokeFunction('convertToInteractive',\n",
              "                                                     [key], {});\n",
              "          if (!dataTable) return;\n",
              "\n",
              "          const docLinkHtml = 'Like what you see? Visit the ' +\n",
              "            '<a target=\"_blank\" href=https://colab.research.google.com/notebooks/data_table.ipynb>data table notebook</a>'\n",
              "            + ' to learn more about interactive tables.';\n",
              "          element.innerHTML = '';\n",
              "          dataTable['output_type'] = 'display_data';\n",
              "          await google.colab.output.renderOutput(dataTable, element);\n",
              "          const docLink = document.createElement('div');\n",
              "          docLink.innerHTML = docLinkHtml;\n",
              "          element.appendChild(docLink);\n",
              "        }\n",
              "      </script>\n",
              "    </div>\n",
              "  </div>\n",
              "  "
            ]
          },
          "metadata": {},
          "execution_count": 27
        }
      ]
    },
    {
      "cell_type": "code",
      "source": [
        "test.dtypes"
      ],
      "metadata": {
        "id": "f6LAkOzHiSiu",
        "outputId": "298ec718-1dd8-4498-d88f-15992feb814b",
        "colab": {
          "base_uri": "https://localhost:8080/"
        }
      },
      "execution_count": 85,
      "outputs": [
        {
          "output_type": "execute_result",
          "data": {
            "text/plain": [
              "Impression    float64\n",
              "Click         float64\n",
              "Purchase      float64\n",
              "Earning       float64\n",
              "dtype: object"
            ]
          },
          "metadata": {},
          "execution_count": 85
        }
      ]
    },
    {
      "cell_type": "markdown",
      "source": [
        "###The averages of both dataframes can be seen in the upper cells which are:\n",
        "\n",
        "550.8940587702316 -> Maximum Bidding\n",
        "\n",
        "582.1060966484677 -> Average Bidding\n",
        "\n",
        "###So there exists a difference between averages but is this difference really caused by bidding methods?\n",
        "\n",
        "###Let's find out."
      ],
      "metadata": {
        "id": "ALOfsrU8pLan"
      }
    },
    {
      "cell_type": "markdown",
      "source": [
        "## Defining Hypothesis:\n",
        "\n",
        "###There is no statistical difference between control and test group Purchase averages based on maximum bidding and average bidding\n",
        " \n",
        "###H0: M1 = M2 -> There is no difference\n",
        "\n",
        "###H1: M1 != M2 -> There is a difference"
      ],
      "metadata": {
        "id": "-O47x-uL4oXx"
      }
    },
    {
      "cell_type": "markdown",
      "source": [
        "###Normal Distribution:\n",
        "H0: The assumption of normal distribution is provided.\n",
        "\n",
        "H1: The assumption of normal distribution is not provided."
      ],
      "metadata": {
        "id": "iaqjZXmpnze6"
      }
    },
    {
      "cell_type": "code",
      "source": [
        "test_stat, pvalue = shapiro(control[\"Purchase\"])\n",
        "print('Test Stat = %.4f, p-value = %.4f' % (test_stat, pvalue))"
      ],
      "metadata": {
        "id": "YCLFmKEQ49N0",
        "colab": {
          "base_uri": "https://localhost:8080/"
        },
        "outputId": "e0a42a4a-f12c-42e4-ea0e-65612e09035d"
      },
      "execution_count": 80,
      "outputs": [
        {
          "output_type": "stream",
          "name": "stdout",
          "text": [
            "Test Stat = 0.9773, p-value = 0.5891\n"
          ]
        }
      ]
    },
    {
      "cell_type": "code",
      "source": [
        "test_stat, pvalue = shapiro(test[\"Purchase\"])\n",
        "print('Test Stat = %.4f, p-value = %.4f' % (test_stat, pvalue))"
      ],
      "metadata": {
        "id": "Btag3jbf49TU",
        "colab": {
          "base_uri": "https://localhost:8080/"
        },
        "outputId": "154205da-8ca4-4901-9ffe-26205ce674a7"
      },
      "execution_count": 81,
      "outputs": [
        {
          "output_type": "stream",
          "name": "stdout",
          "text": [
            "Test Stat = 0.9589, p-value = 0.1541\n"
          ]
        }
      ]
    },
    {
      "cell_type": "markdown",
      "source": [
        "p-values for both dataframes are greater than 0.05(alpha value) \n",
        "hence making the assumption of normal distribution is provided for both. This leads to the conclusion that H0 can't be rejected."
      ],
      "metadata": {
        "id": "Qc7aEMHjqlwB"
      }
    },
    {
      "cell_type": "markdown",
      "source": [
        "###Homogeneity of Variance:\n",
        "\n",
        "H0: Variances are homogeneous.\n",
        "\n",
        "H1: Variances are not homogeneous."
      ],
      "metadata": {
        "id": "hcvkc-c0oG9y"
      }
    },
    {
      "cell_type": "code",
      "source": [
        "test_stat, pvalue = levene(control[\"Purchase\"],\n",
        "                           test[\"Purchase\"])\n",
        "print('Test Stat = %.4f, p-value = %.4f' % (test_stat, pvalue))"
      ],
      "metadata": {
        "id": "a620XslG49Wy",
        "colab": {
          "base_uri": "https://localhost:8080/"
        },
        "outputId": "82045ea3-4fa2-4e0b-ca0f-8b61c044f3b2"
      },
      "execution_count": 82,
      "outputs": [
        {
          "output_type": "stream",
          "name": "stdout",
          "text": [
            "Test Stat = 2.6393, p-value = 0.1083\n"
          ]
        }
      ]
    },
    {
      "cell_type": "markdown",
      "source": [
        "The assumption of homogeneity of variances is provided since the p-value is greater than the alpha value. This leads to the conclusion that H0 can't be rejected.\n"
      ],
      "metadata": {
        "id": "RPARpGH5rczd"
      }
    },
    {
      "cell_type": "markdown",
      "source": [
        "## As mentioned above since both assumptions are met we perform t test which is the parametric test."
      ],
      "metadata": {
        "id": "Az0x2aehsiau"
      }
    },
    {
      "cell_type": "markdown",
      "source": [
        "#Application of the Test"
      ],
      "metadata": {
        "id": "8Oi8eMgQ4wew"
      }
    },
    {
      "cell_type": "code",
      "source": [
        "test_stat, pvalue = ttest_ind(control[\"Purchase\"],\n",
        "                              test[\"Purchase\"],\n",
        "                              equal_var=True)\n",
        "\n",
        "print('Test Stat = %.4f, p-value = %.4f' % (test_stat, pvalue))"
      ],
      "metadata": {
        "id": "jGrfgksx4-Z9",
        "colab": {
          "base_uri": "https://localhost:8080/"
        },
        "outputId": "c4158f36-e88c-4860-f118-0f5bd7ba66a6"
      },
      "execution_count": 83,
      "outputs": [
        {
          "output_type": "stream",
          "name": "stdout",
          "text": [
            "Test Stat = -0.9416, p-value = 0.3493\n"
          ]
        }
      ]
    },
    {
      "cell_type": "markdown",
      "source": [
        "###The p-value is greater than the alpha value. The H0 hypothesis cannot be rejected. There is no statistically significant difference between the control and test group Purchase averages.\n",
        "\n",
        "---\n",
        "\n"
      ],
      "metadata": {
        "id": "4JISHyK9tRjA"
      }
    },
    {
      "cell_type": "markdown",
      "source": [
        "#Summary and Reccomendations:\n",
        "\n",
        "### Our hypothesis came to a conclusion that there was no statistical difference between bidding methods even though the averages of both dataframes were different. In future works using a different dataframe with more indexes in it might change the end result leading into the conclusion that one bidding method is superior to another. For now there is no need for changing the bidding method."
      ],
      "metadata": {
        "id": "bcYW9iK-uIuJ"
      }
    }
  ]
}